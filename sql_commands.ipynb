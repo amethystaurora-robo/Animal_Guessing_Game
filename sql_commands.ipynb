{
 "cells": [
  {
   "cell_type": "code",
   "execution_count": 2,
   "id": "2b4dfc80-cd89-454d-83f5-d0ebb9c796a2",
   "metadata": {},
   "outputs": [
    {
     "name": "stderr",
     "output_type": "stream",
     "text": [
      "47.10s - pydevd: Sending message related to process being replaced timed-out after 5 seconds\n"
     ]
    },
    {
     "name": "stdout",
     "output_type": "stream",
     "text": [
      "Collecting ipython-sql\n",
      "  Downloading ipython_sql-0.5.0-py3-none-any.whl (20 kB)\n",
      "Requirement already satisfied: ipython-genutils in /Users/amethyst/opt/anaconda3/lib/python3.9/site-packages (from ipython-sql) (0.2.0)\n",
      "Collecting sqlparse\n",
      "  Downloading sqlparse-0.5.3-py3-none-any.whl (44 kB)\n",
      "\u001b[2K     \u001b[90m━━━━━━━━━━━━━━━━━━━━━━━━━━━━━━━━━━━━━━━━\u001b[0m \u001b[32m44.4/44.4 kB\u001b[0m \u001b[31m3.7 MB/s\u001b[0m eta \u001b[36m0:00:00\u001b[0m\n",
      "\u001b[?25hCollecting prettytable\n",
      "  Downloading prettytable-3.16.0-py3-none-any.whl (33 kB)\n",
      "Requirement already satisfied: six in /Users/amethyst/opt/anaconda3/lib/python3.9/site-packages (from ipython-sql) (1.16.0)\n",
      "Collecting sqlalchemy>=2.0\n",
      "  Downloading sqlalchemy-2.0.40-cp39-cp39-macosx_10_9_x86_64.whl (2.1 MB)\n",
      "\u001b[2K     \u001b[90m━━━━━━━━━━━━━━━━━━━━━━━━━━━━━━━━━━━━━━━━\u001b[0m \u001b[32m2.1/2.1 MB\u001b[0m \u001b[31m15.2 MB/s\u001b[0m eta \u001b[36m0:00:00\u001b[0ma \u001b[36m0:00:01\u001b[0m\n",
      "\u001b[?25hRequirement already satisfied: ipython in /Users/amethyst/opt/anaconda3/lib/python3.9/site-packages (from ipython-sql) (7.31.1)\n",
      "Requirement already satisfied: greenlet>=1 in /Users/amethyst/opt/anaconda3/lib/python3.9/site-packages (from sqlalchemy>=2.0->ipython-sql) (1.1.1)\n",
      "Collecting typing-extensions>=4.6.0\n",
      "  Downloading typing_extensions-4.13.2-py3-none-any.whl (45 kB)\n",
      "\u001b[2K     \u001b[90m━━━━━━━━━━━━━━━━━━━━━━━━━━━━━━━━━━━━━━━━\u001b[0m \u001b[32m45.8/45.8 kB\u001b[0m \u001b[31m5.3 MB/s\u001b[0m eta \u001b[36m0:00:00\u001b[0m\n",
      "\u001b[?25hRequirement already satisfied: traitlets>=4.2 in /Users/amethyst/opt/anaconda3/lib/python3.9/site-packages (from ipython->ipython-sql) (5.13.0)\n",
      "Requirement already satisfied: matplotlib-inline in /Users/amethyst/opt/anaconda3/lib/python3.9/site-packages (from ipython->ipython-sql) (0.1.6)\n",
      "Requirement already satisfied: pexpect>4.3 in /Users/amethyst/opt/anaconda3/lib/python3.9/site-packages (from ipython->ipython-sql) (4.8.0)\n",
      "Requirement already satisfied: pygments in /Users/amethyst/opt/anaconda3/lib/python3.9/site-packages (from ipython->ipython-sql) (2.17.2)\n",
      "Requirement already satisfied: pickleshare in /Users/amethyst/opt/anaconda3/lib/python3.9/site-packages (from ipython->ipython-sql) (0.7.5)\n",
      "Requirement already satisfied: prompt-toolkit!=3.0.0,!=3.0.1,<3.1.0,>=2.0.0 in /Users/amethyst/opt/anaconda3/lib/python3.9/site-packages (from ipython->ipython-sql) (3.0.20)\n",
      "Requirement already satisfied: appnope in /Users/amethyst/opt/anaconda3/lib/python3.9/site-packages (from ipython->ipython-sql) (0.1.2)\n",
      "Requirement already satisfied: decorator in /Users/amethyst/opt/anaconda3/lib/python3.9/site-packages (from ipython->ipython-sql) (5.1.1)\n",
      "Requirement already satisfied: backcall in /Users/amethyst/opt/anaconda3/lib/python3.9/site-packages (from ipython->ipython-sql) (0.2.0)\n",
      "Requirement already satisfied: jedi>=0.16 in /Users/amethyst/opt/anaconda3/lib/python3.9/site-packages (from ipython->ipython-sql) (0.18.1)\n",
      "Requirement already satisfied: setuptools>=18.5 in /Users/amethyst/opt/anaconda3/lib/python3.9/site-packages (from ipython->ipython-sql) (63.4.1)\n",
      "Requirement already satisfied: wcwidth in /Users/amethyst/opt/anaconda3/lib/python3.9/site-packages (from prettytable->ipython-sql) (0.2.5)\n",
      "Requirement already satisfied: parso<0.9.0,>=0.8.0 in /Users/amethyst/opt/anaconda3/lib/python3.9/site-packages (from jedi>=0.16->ipython->ipython-sql) (0.8.3)\n",
      "Requirement already satisfied: ptyprocess>=0.5 in /Users/amethyst/opt/anaconda3/lib/python3.9/site-packages (from pexpect>4.3->ipython->ipython-sql) (0.7.0)\n",
      "Installing collected packages: typing-extensions, sqlparse, prettytable, sqlalchemy, ipython-sql\n",
      "  Attempting uninstall: typing-extensions\n",
      "    Found existing installation: typing_extensions 4.3.0\n",
      "    Uninstalling typing_extensions-4.3.0:\n",
      "      Successfully uninstalled typing_extensions-4.3.0\n",
      "  Attempting uninstall: sqlalchemy\n",
      "    Found existing installation: SQLAlchemy 1.4.39\n",
      "    Uninstalling SQLAlchemy-1.4.39:\n",
      "      Successfully uninstalled SQLAlchemy-1.4.39\n",
      "Successfully installed ipython-sql-0.5.0 prettytable-3.16.0 sqlalchemy-2.0.40 sqlparse-0.5.3 typing-extensions-4.13.2\n"
     ]
    }
   ],
   "source": [
    "!pip install ipython-sql\n",
    "%load_ext sql"
   ]
  },
  {
   "cell_type": "code",
   "execution_count": null,
   "id": "77771f0c-0861-49d9-9e50-6c264d0830d5",
   "metadata": {},
   "outputs": [],
   "source": [
    "%sql sqlite:///my_database.db"
   ]
  }
 ],
 "metadata": {
  "kernelspec": {
   "display_name": "Python 3 (ipykernel)",
   "language": "python",
   "name": "python3"
  },
  "language_info": {
   "codemirror_mode": {
    "name": "ipython",
    "version": 3
   },
   "file_extension": ".py",
   "mimetype": "text/x-python",
   "name": "python",
   "nbconvert_exporter": "python",
   "pygments_lexer": "ipython3",
   "version": "3.9.13"
  }
 },
 "nbformat": 4,
 "nbformat_minor": 5
}
