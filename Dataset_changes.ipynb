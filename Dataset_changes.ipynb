{
 "cells": [
  {
   "cell_type": "code",
   "execution_count": 48,
   "id": "7bfbf9ba",
   "metadata": {},
   "outputs": [],
   "source": [
    "import numpy as np\n",
    "import pandas as pd\n",
    "import re"
   ]
  },
  {
   "cell_type": "code",
   "execution_count": 49,
   "id": "c54d31c9",
   "metadata": {},
   "outputs": [],
   "source": [
    "animal_df = pd.read_csv('animal_df.csv',index_col=False)"
   ]
  },
  {
   "cell_type": "code",
   "execution_count": 50,
   "id": "19c9b9ca",
   "metadata": {},
   "outputs": [
    {
     "data": {
      "text/html": [
       "<div>\n",
       "<style scoped>\n",
       "    .dataframe tbody tr th:only-of-type {\n",
       "        vertical-align: middle;\n",
       "    }\n",
       "\n",
       "    .dataframe tbody tr th {\n",
       "        vertical-align: top;\n",
       "    }\n",
       "\n",
       "    .dataframe thead th {\n",
       "        text-align: right;\n",
       "    }\n",
       "</style>\n",
       "<table border=\"1\" class=\"dataframe\">\n",
       "  <thead>\n",
       "    <tr style=\"text-align: right;\">\n",
       "      <th></th>\n",
       "      <th>Unnamed: 0</th>\n",
       "      <th>domesticated</th>\n",
       "      <th>diet</th>\n",
       "      <th>habitat</th>\n",
       "      <th>Kingdom</th>\n",
       "      <th>region</th>\n",
       "      <th>subtype</th>\n",
       "      <th>species</th>\n",
       "    </tr>\n",
       "  </thead>\n",
       "  <tbody>\n",
       "    <tr>\n",
       "      <th>0</th>\n",
       "      <td>0</td>\n",
       "      <td>wild animal</td>\n",
       "      <td>omnivore</td>\n",
       "      <td>terrestrial animal</td>\n",
       "      <td>mammal</td>\n",
       "      <td>animal found in Oceania</td>\n",
       "      <td>marsupial</td>\n",
       "      <td>bandicoot</td>\n",
       "    </tr>\n",
       "    <tr>\n",
       "      <th>1</th>\n",
       "      <td>1</td>\n",
       "      <td>wild animal</td>\n",
       "      <td>omnivore</td>\n",
       "      <td>terrestrial animal</td>\n",
       "      <td>mammal</td>\n",
       "      <td>animal found in the Americas</td>\n",
       "      <td>marsupial</td>\n",
       "      <td>flying squirrel</td>\n",
       "    </tr>\n",
       "    <tr>\n",
       "      <th>2</th>\n",
       "      <td>2</td>\n",
       "      <td>wild animal</td>\n",
       "      <td>omnivore</td>\n",
       "      <td>terrestrial animal</td>\n",
       "      <td>mammal</td>\n",
       "      <td>animal found in Eurasia</td>\n",
       "      <td>marsupial</td>\n",
       "      <td>flying squirrel</td>\n",
       "    </tr>\n",
       "    <tr>\n",
       "      <th>3</th>\n",
       "      <td>3</td>\n",
       "      <td>wild animal</td>\n",
       "      <td>herbivore</td>\n",
       "      <td>terrestrial animal</td>\n",
       "      <td>mammal</td>\n",
       "      <td>animal found in Oceania</td>\n",
       "      <td>marsupial</td>\n",
       "      <td>kangaroo</td>\n",
       "    </tr>\n",
       "    <tr>\n",
       "      <th>4</th>\n",
       "      <td>4</td>\n",
       "      <td>wild animal</td>\n",
       "      <td>herbivore</td>\n",
       "      <td>terrestrial animal</td>\n",
       "      <td>mammal</td>\n",
       "      <td>animal found in Oceania</td>\n",
       "      <td>marsupial</td>\n",
       "      <td>koala bear</td>\n",
       "    </tr>\n",
       "    <tr>\n",
       "      <th>...</th>\n",
       "      <td>...</td>\n",
       "      <td>...</td>\n",
       "      <td>...</td>\n",
       "      <td>...</td>\n",
       "      <td>...</td>\n",
       "      <td>...</td>\n",
       "      <td>...</td>\n",
       "      <td>...</td>\n",
       "    </tr>\n",
       "    <tr>\n",
       "      <th>295</th>\n",
       "      <td>295</td>\n",
       "      <td>wild animal</td>\n",
       "      <td>carnivore</td>\n",
       "      <td>terrestrial animal</td>\n",
       "      <td>reptile</td>\n",
       "      <td>animal found in the Americas</td>\n",
       "      <td>lizard</td>\n",
       "      <td>glass lizard</td>\n",
       "    </tr>\n",
       "    <tr>\n",
       "      <th>296</th>\n",
       "      <td>296</td>\n",
       "      <td>wild animal</td>\n",
       "      <td>carnivore</td>\n",
       "      <td>terrestrial animal</td>\n",
       "      <td>reptile</td>\n",
       "      <td>animal found in Eurasia</td>\n",
       "      <td>lizard</td>\n",
       "      <td>glass lizard</td>\n",
       "    </tr>\n",
       "    <tr>\n",
       "      <th>297</th>\n",
       "      <td>297</td>\n",
       "      <td>wild animal</td>\n",
       "      <td>insectivore</td>\n",
       "      <td>terrestrial animal</td>\n",
       "      <td>reptile</td>\n",
       "      <td>animal found in the Americas</td>\n",
       "      <td>lizard</td>\n",
       "      <td>horned lizard</td>\n",
       "    </tr>\n",
       "    <tr>\n",
       "      <th>298</th>\n",
       "      <td>298</td>\n",
       "      <td>wild animal</td>\n",
       "      <td>herbivore</td>\n",
       "      <td>terrestrial animal</td>\n",
       "      <td>reptile</td>\n",
       "      <td>animal found in the Americas</td>\n",
       "      <td>lizard</td>\n",
       "      <td>iguana</td>\n",
       "    </tr>\n",
       "    <tr>\n",
       "      <th>299</th>\n",
       "      <td>299</td>\n",
       "      <td>wild animal</td>\n",
       "      <td>carnivore</td>\n",
       "      <td>terrestrial animal</td>\n",
       "      <td>reptile</td>\n",
       "      <td>animal found in Oceania</td>\n",
       "      <td>lizard</td>\n",
       "      <td>komodo dragon</td>\n",
       "    </tr>\n",
       "  </tbody>\n",
       "</table>\n",
       "<p>300 rows × 8 columns</p>\n",
       "</div>"
      ],
      "text/plain": [
       "     Unnamed: 0 domesticated         diet             habitat  Kingdom  \\\n",
       "0             0  wild animal     omnivore  terrestrial animal   mammal   \n",
       "1             1  wild animal     omnivore  terrestrial animal   mammal   \n",
       "2             2  wild animal     omnivore  terrestrial animal   mammal   \n",
       "3             3  wild animal    herbivore  terrestrial animal   mammal   \n",
       "4             4  wild animal    herbivore  terrestrial animal   mammal   \n",
       "..          ...          ...          ...                 ...      ...   \n",
       "295         295  wild animal    carnivore  terrestrial animal  reptile   \n",
       "296         296  wild animal    carnivore  terrestrial animal  reptile   \n",
       "297         297  wild animal  insectivore  terrestrial animal  reptile   \n",
       "298         298  wild animal    herbivore  terrestrial animal  reptile   \n",
       "299         299  wild animal    carnivore  terrestrial animal  reptile   \n",
       "\n",
       "                           region    subtype          species  \n",
       "0         animal found in Oceania  marsupial        bandicoot  \n",
       "1    animal found in the Americas  marsupial  flying squirrel  \n",
       "2         animal found in Eurasia  marsupial  flying squirrel  \n",
       "3         animal found in Oceania  marsupial         kangaroo  \n",
       "4         animal found in Oceania  marsupial       koala bear  \n",
       "..                            ...        ...              ...  \n",
       "295  animal found in the Americas     lizard     glass lizard  \n",
       "296       animal found in Eurasia     lizard     glass lizard  \n",
       "297  animal found in the Americas     lizard    horned lizard  \n",
       "298  animal found in the Americas     lizard           iguana  \n",
       "299       animal found in Oceania     lizard    komodo dragon  \n",
       "\n",
       "[300 rows x 8 columns]"
      ]
     },
     "execution_count": 50,
     "metadata": {},
     "output_type": "execute_result"
    }
   ],
   "source": [
    "animal_df.head(300)"
   ]
  },
  {
   "cell_type": "code",
   "execution_count": 30,
   "id": "c5acfc73-7f26-40be-a179-ab1ec95fc043",
   "metadata": {},
   "outputs": [
    {
     "name": "stdout",
     "output_type": "stream",
     "text": [
      "Size of dataset:  513\n",
      "Question 1: \n"
     ]
    },
    {
     "name": "stdin",
     "output_type": "stream",
     "text": [
      "Is it a wild animal yes\n"
     ]
    },
    {
     "name": "stdout",
     "output_type": "stream",
     "text": [
      "Question 2: \n"
     ]
    },
    {
     "name": "stdin",
     "output_type": "stream",
     "text": [
      "Is it a omnivore? no\n"
     ]
    },
    {
     "name": "stdout",
     "output_type": "stream",
     "text": [
      "Question 3: \n"
     ]
    },
    {
     "name": "stdin",
     "output_type": "stream",
     "text": [
      "Is it a herbivore? no\n"
     ]
    },
    {
     "name": "stdout",
     "output_type": "stream",
     "text": [
      "Question 4: \n"
     ]
    },
    {
     "name": "stdin",
     "output_type": "stream",
     "text": [
      "Is it a insectivore? no\n"
     ]
    },
    {
     "name": "stdout",
     "output_type": "stream",
     "text": [
      "Question 5: \n"
     ]
    },
    {
     "name": "stdin",
     "output_type": "stream",
     "text": [
      "Is it a carnivore? yes\n"
     ]
    },
    {
     "name": "stdout",
     "output_type": "stream",
     "text": [
      "Size of dataset:  192\n",
      "Question 6: \n"
     ]
    },
    {
     "name": "stdin",
     "output_type": "stream",
     "text": [
      "Is it a semi-aquatic animal? no\n"
     ]
    },
    {
     "name": "stdout",
     "output_type": "stream",
     "text": [
      "Question 7: \n"
     ]
    },
    {
     "name": "stdin",
     "output_type": "stream",
     "text": [
      "Is it a terrestrial animal? yes\n"
     ]
    },
    {
     "name": "stdout",
     "output_type": "stream",
     "text": [
      "Size of dataset:  87\n",
      "Question 8: \n"
     ]
    },
    {
     "name": "stdin",
     "output_type": "stream",
     "text": [
      "Is it a mammal? no\n"
     ]
    },
    {
     "name": "stdout",
     "output_type": "stream",
     "text": [
      "Question 9: \n"
     ]
    },
    {
     "name": "stdin",
     "output_type": "stream",
     "text": [
      "Is it a reptile? yes\n"
     ]
    },
    {
     "name": "stdout",
     "output_type": "stream",
     "text": [
      "Size of dataset:  34\n",
      "Question 10: \n"
     ]
    },
    {
     "name": "stdin",
     "output_type": "stream",
     "text": [
      "Is it a animal found worldwide? no\n"
     ]
    },
    {
     "name": "stdout",
     "output_type": "stream",
     "text": [
      "Question 11: \n"
     ]
    },
    {
     "name": "stdin",
     "output_type": "stream",
     "text": [
      "Is it a animal found in Africa? no\n"
     ]
    },
    {
     "name": "stdout",
     "output_type": "stream",
     "text": [
      "Question 12: \n"
     ]
    },
    {
     "name": "stdin",
     "output_type": "stream",
     "text": [
      "Is it a animal found in Eurasia? no\n"
     ]
    },
    {
     "name": "stdout",
     "output_type": "stream",
     "text": [
      "Question 13: \n"
     ]
    },
    {
     "name": "stdin",
     "output_type": "stream",
     "text": [
      "Is it a animal found in the Americas? yes\n"
     ]
    },
    {
     "name": "stdout",
     "output_type": "stream",
     "text": [
      "Size of dataset:  8\n",
      "Question 14: \n"
     ]
    },
    {
     "name": "stdin",
     "output_type": "stream",
     "text": [
      "Is it a snake? yes\n"
     ]
    },
    {
     "name": "stdout",
     "output_type": "stream",
     "text": [
      "Size of dataset:  6\n",
      "Species list in dataset:  ['rattlesnake', 'kingsnake', 'garter snake', 'galapagos snake', 'copperhead snake', 'boa']\n",
      "Question 15: \n"
     ]
    },
    {
     "name": "stdin",
     "output_type": "stream",
     "text": [
      "Is it a rattlesnake? yes\n"
     ]
    },
    {
     "name": "stdout",
     "output_type": "stream",
     "text": [
      "Size of dataset:  1\n"
     ]
    },
    {
     "data": {
      "text/plain": [
       "'\\nTO DO:\\n2. Add animals - stoat,\\n3. Dinosaur is not reptile - maybe delete\\n4. Skip nan columns - if the last column is nan, break and print I win\\n5. add a/an functionality\\n7. Add Question Counter\\n8. Add functionality to end game after 20 questions\\n9. Add smarter functionality\\n    - choose shorter or longer categories first\\n    - if all categories in the filtered dataset are the same, just go straight to species\\n    - if all other questions have been asked, no need to ask the final question in a column\\n'"
      ]
     },
     "execution_count": 30,
     "metadata": {},
     "output_type": "execute_result"
    }
   ],
   "source": [
    "'''\n",
    "TO DO:\n",
    "9. Add smarter functionality\n",
    "    - choose shorter or longer categories first\n",
    "    - if all categories in the filtered dataset are the same, just go straight to species\n",
    "    - if all other questions have been asked, no need to ask the final question in a column\n",
    "10. Add learning capabilities\n",
    "    - if the user wins, they fill a form to add their animal to the database\n",
    "'''"
   ]
  },
  {
   "cell_type": "code",
   "execution_count": 51,
   "id": "f99d4d47-a332-4eae-8d8d-b00f8c655460",
   "metadata": {},
   "outputs": [],
   "source": [
    "#chooses a or an for questions with vowels\n",
    "def make_an(next_word):\n",
    "    vowels = re.compile(\"^[aeiouAEIOU]\")\n",
    "    match = vowels.match(next_word)\n",
    "    if match:\n",
    "       return 'an'\n",
    "    else:\n",
    "       return 'a'"
   ]
  },
  {
   "cell_type": "code",
   "execution_count": 54,
   "id": "14a5568a-0f8e-420c-9ec8-86bb4df78a86",
   "metadata": {},
   "outputs": [
    {
     "name": "stdout",
     "output_type": "stream",
     "text": [
      "Question 1: \n"
     ]
    },
    {
     "name": "stdin",
     "output_type": "stream",
     "text": [
      "Is it a wild animal? yes\n"
     ]
    },
    {
     "name": "stdout",
     "output_type": "stream",
     "text": [
      "Question 2: \n"
     ]
    },
    {
     "name": "stdin",
     "output_type": "stream",
     "text": [
      "Is it an omnivore? yes\n"
     ]
    },
    {
     "name": "stdout",
     "output_type": "stream",
     "text": [
      "Question 3: \n"
     ]
    },
    {
     "name": "stdin",
     "output_type": "stream",
     "text": [
      "Is it a terrestrial animal? yes\n"
     ]
    },
    {
     "name": "stdout",
     "output_type": "stream",
     "text": [
      "Question 4: \n"
     ]
    },
    {
     "name": "stdin",
     "output_type": "stream",
     "text": [
      "Is it a mammal? yes\n"
     ]
    },
    {
     "name": "stdout",
     "output_type": "stream",
     "text": [
      "Question 5: \n"
     ]
    },
    {
     "name": "stdin",
     "output_type": "stream",
     "text": [
      "Is it an animal found in Oceania? no\n"
     ]
    },
    {
     "name": "stdout",
     "output_type": "stream",
     "text": [
      "Size of dataset:  59\n",
      "Question 6: \n"
     ]
    },
    {
     "name": "stdin",
     "output_type": "stream",
     "text": [
      "Is it an animal found in the Americas? no\n"
     ]
    },
    {
     "name": "stdout",
     "output_type": "stream",
     "text": [
      "Size of dataset:  37\n",
      "Question 7: \n"
     ]
    },
    {
     "name": "stdin",
     "output_type": "stream",
     "text": [
      "Is it an animal found in Eurasia? yes\n"
     ]
    },
    {
     "name": "stdout",
     "output_type": "stream",
     "text": [
      "Question 8: \n"
     ]
    },
    {
     "name": "stdin",
     "output_type": "stream",
     "text": [
      "Is it a marsupial? no\n"
     ]
    },
    {
     "name": "stdout",
     "output_type": "stream",
     "text": [
      "Size of dataset:  18\n",
      "Question 9: \n"
     ]
    },
    {
     "name": "stdin",
     "output_type": "stream",
     "text": [
      "Is it an animal with horns antlers or tusks? no\n"
     ]
    },
    {
     "name": "stdout",
     "output_type": "stream",
     "text": [
      "Size of dataset:  17\n",
      "Question 10: \n"
     ]
    },
    {
     "name": "stdin",
     "output_type": "stream",
     "text": [
      "Is it a primate? no\n"
     ]
    },
    {
     "name": "stdout",
     "output_type": "stream",
     "text": [
      "Size of dataset:  13\n",
      "Question 11: \n",
      "Question 11: \n"
     ]
    },
    {
     "name": "stdin",
     "output_type": "stream",
     "text": [
      "Is it an animal with stripes? no\n"
     ]
    },
    {
     "name": "stdout",
     "output_type": "stream",
     "text": [
      "Size of dataset:  12\n",
      "Question 12: \n"
     ]
    },
    {
     "name": "stdin",
     "output_type": "stream",
     "text": [
      "Is it an animal with armor or spikes? no\n"
     ]
    },
    {
     "name": "stdout",
     "output_type": "stream",
     "text": [
      "Size of dataset:  11\n",
      "Question 13: \n"
     ]
    },
    {
     "name": "stdin",
     "output_type": "stream",
     "text": [
      "Is it a bear? no\n"
     ]
    },
    {
     "name": "stdout",
     "output_type": "stream",
     "text": [
      "Size of dataset:  7\n",
      "Question 14: \n"
     ]
    },
    {
     "name": "stdin",
     "output_type": "stream",
     "text": [
      "Is it a feline? no\n"
     ]
    },
    {
     "name": "stdout",
     "output_type": "stream",
     "text": [
      "Size of dataset:  6\n",
      "Question 15: \n"
     ]
    },
    {
     "name": "stdin",
     "output_type": "stream",
     "text": [
      "Is it a mustelid? no\n"
     ]
    },
    {
     "name": "stdout",
     "output_type": "stream",
     "text": [
      "Size of dataset:  4\n",
      "Question 16: \n"
     ]
    },
    {
     "name": "stdin",
     "output_type": "stream",
     "text": [
      "Is it a racoon? no\n"
     ]
    },
    {
     "name": "stdout",
     "output_type": "stream",
     "text": [
      "Size of dataset:  3\n",
      "Question 17: \n"
     ]
    },
    {
     "name": "stdin",
     "output_type": "stream",
     "text": [
      "Is it a mongoose? no\n"
     ]
    },
    {
     "name": "stdout",
     "output_type": "stream",
     "text": [
      "Size of dataset:  2\n",
      "Question 18: \n"
     ]
    },
    {
     "name": "stdin",
     "output_type": "stream",
     "text": [
      "Is it a red panda? no\n"
     ]
    },
    {
     "name": "stdout",
     "output_type": "stream",
     "text": [
      "Size of dataset:  1\n",
      "Question 19: \n"
     ]
    },
    {
     "name": "stdin",
     "output_type": "stream",
     "text": [
      "Is it a civet? yes\n"
     ]
    },
    {
     "name": "stdout",
     "output_type": "stream",
     "text": [
      "Amazing. So it's a civet. I win!\n"
     ]
    }
   ],
   "source": [
    "question_counter = 1\n",
    "filtered_animals = animal_df\n",
    "\n",
    "def loop_questions(column,filtered_animals):\n",
    "    global question_counter\n",
    "    #print(\"Size of dataset: \",len(filtered_animals))\n",
    "    list = filtered_animals[column].unique().tolist()\n",
    "    for animal in list:\n",
    "        print(f\"Question {question_counter}: \")\n",
    "        if pd.notna(animal):\n",
    "            a_an = make_an(animal)\n",
    "            response = input(f\"Is it {a_an} {animal}?\")\n",
    "            question_counter+=1\n",
    "            if response == \"no\":\n",
    "                filtered_animals = filtered_animals.loc[filtered_animals[column]!=animal]\n",
    "            if (question_counter<=20) & (len(filtered_animals)==1) & (response==\"yes\"):\n",
    "                print(f\"Amazing. So it's a {animal}. I win!\")\n",
    "                return filtered_animals\n",
    "            if response == \"yes\":\n",
    "                filtered_animals = filtered_animals.loc[filtered_animals[column]==animal]\n",
    "                break\n",
    "            if (question_counter>20):\n",
    "                print(\"That's 20 questions! You win!\")\n",
    "                return filtered_animals\n",
    "            if (len(filtered_animals)==0):\n",
    "                print(\"I'm out of ideas. You win!\")\n",
    "                return filtered_animals\n",
    "            print(\"Size of dataset: \",len(filtered_animals))\n",
    "        \n",
    "    return filtered_animals\n",
    "\n",
    "columns = ['domesticated','diet','habitat','Kingdom','region','subtype','species']\n",
    "\n",
    "for column in range(len(columns)):\n",
    "    filtered_animals = loop_questions(columns[column],filtered_animals)\n",
    "\n",
    "filtered_animals=animal_df"
   ]
  },
  {
   "cell_type": "code",
   "execution_count": null,
   "id": "7f307ad4-30ed-4c47-b07c-cc276989b794",
   "metadata": {},
   "outputs": [],
   "source": [
    "#go through each list, ask unique values\n",
    "#should start with domesticated rather than wild, aquatic rather than terrestrial, but region start with the most common\n",
    "#Rather than colors, maybe do distinctive features like venom, camouflauge, horns, spikes, armor, spots, stripes\n",
    "#maybe try first without colour column\n",
    "#if user input is yes, break and go to next column\n",
    "#if user input is no, continue\n",
    "#if question num is 20, print you win and break\n",
    "#if user input is yes and on last column, print I win and break\n",
    "#when user input is yes, filter dataset to only those animals, then ask again with new dataset"
   ]
  },
  {
   "cell_type": "code",
   "execution_count": 24,
   "id": "8e255d8c-5a24-49fb-9553-0eccf02a30d3",
   "metadata": {},
   "outputs": [],
   "source": []
  },
  {
   "cell_type": "code",
   "execution_count": 25,
   "id": "dbc161fb",
   "metadata": {},
   "outputs": [],
   "source": [
    "#iterate through a list and make guesses, return final guess\n",
    "def count_questions(list, question):\n",
    "    count=0\n",
    "    current_question = ''\n",
    "    for item in list:\n",
    "        a_an = make_an(list[count])\n",
    "        current_question = input(f\"Question {question}: Is it {a_an} {list[count]}?\")\n",
    "        if (current_question==\"yes\"):\n",
    "            question = int(question)\n",
    "            question +=1\n",
    "            question = str(question)\n",
    "            return [list[count], question]\n",
    "        question = int(question)\n",
    "        if question == 20:\n",
    "            print(\"That's 20 questions! You win! Play again?\")\n",
    "            return\n",
    "        question = str(question)\n",
    "        count+=1\n",
    "        question=int(question)\n",
    "        question+=1\n",
    "        question=str(question)\n",
    "            "
   ]
  },
  {
   "cell_type": "code",
   "execution_count": 23,
   "id": "edc51ece",
   "metadata": {},
   "outputs": [],
   "source": [
    "#main, iterate through each column in animal_df until a correct guess is reached\n",
    "def current_animal():\n",
    "\n",
    "    animal_kingdom = count_questions(kingdom_list, str(1))\n",
    "    current_animal_kingdom = animal_df.type[animal_df.Kingdom==animal_kingdom[0]].unique().tolist()\n",
    "    animal_type = count_questions(current_animal_kingdom, animal_kingdom[1])\n",
    "    a_an = make_an(animal_type[0])\n",
    "    current_animal_type = animal_df.subtype[animal_df.type==animal_type[0]].unique().tolist()\n",
    "    if len(current_animal_type)==1:\n",
    "        print(f\"Great! So it is {a_an} {animal_type[0]}.\")\n",
    "        return\n",
    "    animal_subtype = count_questions(current_animal_type, animal_type[1])\n",
    "    current_animal_subtype = animal_df.species[animal_df.subtype==animal_subtype[0]].unique().tolist()\n",
    "    if len(current_animal_subtype)==1:\n",
    "        print(f\"Great! So it is {a_an} {animal_type[0]}.\")\n",
    "        return\n",
    "    animal_species = count_questions(current_animal_subtype, animal_subtype[1])\n",
    "    a_an = make_an(animal_species[0])\n",
    "    print(f\"Great! So it is {a_an} {animal_type[0]}.\")\n",
    "\n",
    "        \n",
    "    "
   ]
  },
  {
   "cell_type": "code",
   "execution_count": 24,
   "id": "4fa2961f",
   "metadata": {},
   "outputs": [],
   "source": [
    "#take question number\n",
    "#add to new question then start that\n",
    "\n",
    "def question_num(num):\n",
    "    question = num\n",
    "    return question"
   ]
  },
  {
   "cell_type": "code",
   "execution_count": 25,
   "id": "0a68fceb",
   "metadata": {},
   "outputs": [],
   "source": [
    "#add functionality to separate columns based on alphabet\n",
    "#add insects"
   ]
  },
  {
   "cell_type": "code",
   "execution_count": 27,
   "id": "73a0be4a-ebcf-4eb0-a777-c6095753fd95",
   "metadata": {},
   "outputs": [
    {
     "name": "stdin",
     "output_type": "stream",
     "text": [
      "Question 1: Is it a  mammal? yes\n",
      "Question 2: Is it an  Australian or Marsupial? no\n",
      "Question 3: Is it a  horned/antlered/tusked mammal? no\n",
      "Question 4: Is it a  primate? no\n",
      "Question 5: Is it a  rodent? yes\n",
      "Question 6: Is it a  capybara? no\n",
      "Question 7: Is it a  beaver? no\n",
      "Question 8: Is it a  badger? no\n",
      "Question 9: Is it a  chinchilla? no\n",
      "Question 10: Is it a  chipmunk? no\n",
      "Question 11: Is it a  civet? no\n",
      "Question 12: Is it a  coati? no\n",
      "Question 13: Is it a  ferret? no\n",
      "Question 14: Is it a  fossa? no\n",
      "Question 15: Is it a  gerbil? no\n",
      "Question 16: Is it a  gopher? no\n",
      "Question 17: Is it a  hamster? no\n",
      "Question 18: Is it a  guinea pig? no\n",
      "Question 19: Is it a  hare? no\n",
      "Question 20: Is it a  lemming? no\n"
     ]
    },
    {
     "name": "stdout",
     "output_type": "stream",
     "text": [
      "That's 20 questions! You win! Play again?\n"
     ]
    },
    {
     "ename": "TypeError",
     "evalue": "'NoneType' object is not subscriptable",
     "output_type": "error",
     "traceback": [
      "\u001b[0;31m---------------------------------------------------------------------------\u001b[0m",
      "\u001b[0;31mTypeError\u001b[0m                                 Traceback (most recent call last)",
      "\u001b[0;32m/var/folders/v1/ymptnwwx3x1b7_mw0nns09wr0000gn/T/ipykernel_50449/2376150501.py\u001b[0m in \u001b[0;36m<module>\u001b[0;34m\u001b[0m\n\u001b[0;32m----> 1\u001b[0;31m \u001b[0mcurrent_animal\u001b[0m\u001b[0;34m(\u001b[0m\u001b[0;34m)\u001b[0m\u001b[0;34m\u001b[0m\u001b[0;34m\u001b[0m\u001b[0m\n\u001b[0m",
      "\u001b[0;32m/var/folders/v1/ymptnwwx3x1b7_mw0nns09wr0000gn/T/ipykernel_50449/2403510971.py\u001b[0m in \u001b[0;36mcurrent_animal\u001b[0;34m()\u001b[0m\n\u001b[1;32m     11\u001b[0m         \u001b[0;32mreturn\u001b[0m\u001b[0;34m\u001b[0m\u001b[0;34m\u001b[0m\u001b[0m\n\u001b[1;32m     12\u001b[0m     \u001b[0manimal_subtype\u001b[0m \u001b[0;34m=\u001b[0m \u001b[0mcount_questions\u001b[0m\u001b[0;34m(\u001b[0m\u001b[0mcurrent_animal_type\u001b[0m\u001b[0;34m,\u001b[0m \u001b[0manimal_type\u001b[0m\u001b[0;34m[\u001b[0m\u001b[0;36m1\u001b[0m\u001b[0;34m]\u001b[0m\u001b[0;34m)\u001b[0m\u001b[0;34m\u001b[0m\u001b[0;34m\u001b[0m\u001b[0m\n\u001b[0;32m---> 13\u001b[0;31m     \u001b[0mcurrent_animal_subtype\u001b[0m \u001b[0;34m=\u001b[0m \u001b[0manimal_df\u001b[0m\u001b[0;34m.\u001b[0m\u001b[0mspecies\u001b[0m\u001b[0;34m[\u001b[0m\u001b[0manimal_df\u001b[0m\u001b[0;34m.\u001b[0m\u001b[0msubtype\u001b[0m\u001b[0;34m==\u001b[0m\u001b[0manimal_subtype\u001b[0m\u001b[0;34m[\u001b[0m\u001b[0;36m0\u001b[0m\u001b[0;34m]\u001b[0m\u001b[0;34m]\u001b[0m\u001b[0;34m.\u001b[0m\u001b[0munique\u001b[0m\u001b[0;34m(\u001b[0m\u001b[0;34m)\u001b[0m\u001b[0;34m.\u001b[0m\u001b[0mtolist\u001b[0m\u001b[0;34m(\u001b[0m\u001b[0;34m)\u001b[0m\u001b[0;34m\u001b[0m\u001b[0;34m\u001b[0m\u001b[0m\n\u001b[0m\u001b[1;32m     14\u001b[0m     \u001b[0;32mif\u001b[0m \u001b[0mlen\u001b[0m\u001b[0;34m(\u001b[0m\u001b[0mcurrent_animal_subtype\u001b[0m\u001b[0;34m)\u001b[0m\u001b[0;34m==\u001b[0m\u001b[0;36m1\u001b[0m\u001b[0;34m:\u001b[0m\u001b[0;34m\u001b[0m\u001b[0;34m\u001b[0m\u001b[0m\n\u001b[1;32m     15\u001b[0m         \u001b[0mprint\u001b[0m\u001b[0;34m(\u001b[0m\u001b[0;34mf\"Great! So it is {a_an} {animal_type[0]}.\"\u001b[0m\u001b[0;34m)\u001b[0m\u001b[0;34m\u001b[0m\u001b[0;34m\u001b[0m\u001b[0m\n",
      "\u001b[0;31mTypeError\u001b[0m: 'NoneType' object is not subscriptable"
     ]
    }
   ],
   "source": [
    "current_animal()"
   ]
  },
  {
   "cell_type": "code",
   "execution_count": null,
   "id": "577a7e39",
   "metadata": {},
   "outputs": [],
   "source": []
  },
  {
   "cell_type": "code",
   "execution_count": null,
   "id": "d181d938",
   "metadata": {},
   "outputs": [],
   "source": []
  },
  {
   "cell_type": "code",
   "execution_count": null,
   "id": "e2b5e859",
   "metadata": {},
   "outputs": [],
   "source": []
  },
  {
   "cell_type": "code",
   "execution_count": null,
   "id": "9b6cdae3",
   "metadata": {},
   "outputs": [],
   "source": []
  },
  {
   "cell_type": "code",
   "execution_count": null,
   "id": "41430475",
   "metadata": {},
   "outputs": [],
   "source": []
  }
 ],
 "metadata": {
  "kernelspec": {
   "display_name": "Python 3 (ipykernel)",
   "language": "python",
   "name": "python3"
  },
  "language_info": {
   "codemirror_mode": {
    "name": "ipython",
    "version": 3
   },
   "file_extension": ".py",
   "mimetype": "text/x-python",
   "name": "python",
   "nbconvert_exporter": "python",
   "pygments_lexer": "ipython3",
   "version": "3.9.13"
  }
 },
 "nbformat": 4,
 "nbformat_minor": 5
}
