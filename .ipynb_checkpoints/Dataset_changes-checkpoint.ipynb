{
 "cells": [
  {
   "cell_type": "code",
   "execution_count": 48,
   "id": "7bfbf9ba",
   "metadata": {},
   "outputs": [],
   "source": [
    "import numpy as np\n",
    "import pandas as pd\n",
    "import re"
   ]
  },
  {
   "cell_type": "code",
   "execution_count": 71,
   "id": "c54d31c9",
   "metadata": {},
   "outputs": [],
   "source": [
    "animal_df = pd.read_csv('animal_df.csv',index_col=False)"
   ]
  },
  {
   "cell_type": "code",
   "execution_count": 72,
   "id": "19c9b9ca",
   "metadata": {},
   "outputs": [
    {
     "data": {
      "text/html": [
       "<div>\n",
       "<style scoped>\n",
       "    .dataframe tbody tr th:only-of-type {\n",
       "        vertical-align: middle;\n",
       "    }\n",
       "\n",
       "    .dataframe tbody tr th {\n",
       "        vertical-align: top;\n",
       "    }\n",
       "\n",
       "    .dataframe thead th {\n",
       "        text-align: right;\n",
       "    }\n",
       "</style>\n",
       "<table border=\"1\" class=\"dataframe\">\n",
       "  <thead>\n",
       "    <tr style=\"text-align: right;\">\n",
       "      <th></th>\n",
       "      <th>domesticated</th>\n",
       "      <th>diet</th>\n",
       "      <th>habitat</th>\n",
       "      <th>Kingdom</th>\n",
       "      <th>region</th>\n",
       "      <th>subtype</th>\n",
       "      <th>species</th>\n",
       "    </tr>\n",
       "  </thead>\n",
       "  <tbody>\n",
       "    <tr>\n",
       "      <th>0</th>\n",
       "      <td>wild animal</td>\n",
       "      <td>omnivore</td>\n",
       "      <td>terrestrial animal</td>\n",
       "      <td>mammal</td>\n",
       "      <td>animal found in Oceania</td>\n",
       "      <td>marsupial</td>\n",
       "      <td>bandicoot</td>\n",
       "    </tr>\n",
       "    <tr>\n",
       "      <th>1</th>\n",
       "      <td>wild animal</td>\n",
       "      <td>omnivore</td>\n",
       "      <td>terrestrial animal</td>\n",
       "      <td>mammal</td>\n",
       "      <td>animal found in the Americas</td>\n",
       "      <td>marsupial</td>\n",
       "      <td>flying squirrel</td>\n",
       "    </tr>\n",
       "    <tr>\n",
       "      <th>2</th>\n",
       "      <td>wild animal</td>\n",
       "      <td>omnivore</td>\n",
       "      <td>terrestrial animal</td>\n",
       "      <td>mammal</td>\n",
       "      <td>animal found in Eurasia</td>\n",
       "      <td>marsupial</td>\n",
       "      <td>flying squirrel</td>\n",
       "    </tr>\n",
       "    <tr>\n",
       "      <th>3</th>\n",
       "      <td>wild animal</td>\n",
       "      <td>herbivore</td>\n",
       "      <td>terrestrial animal</td>\n",
       "      <td>mammal</td>\n",
       "      <td>animal found in Oceania</td>\n",
       "      <td>marsupial</td>\n",
       "      <td>kangaroo</td>\n",
       "    </tr>\n",
       "    <tr>\n",
       "      <th>4</th>\n",
       "      <td>wild animal</td>\n",
       "      <td>herbivore</td>\n",
       "      <td>terrestrial animal</td>\n",
       "      <td>mammal</td>\n",
       "      <td>animal found in Oceania</td>\n",
       "      <td>marsupial</td>\n",
       "      <td>koala bear</td>\n",
       "    </tr>\n",
       "    <tr>\n",
       "      <th>...</th>\n",
       "      <td>...</td>\n",
       "      <td>...</td>\n",
       "      <td>...</td>\n",
       "      <td>...</td>\n",
       "      <td>...</td>\n",
       "      <td>...</td>\n",
       "      <td>...</td>\n",
       "    </tr>\n",
       "    <tr>\n",
       "      <th>295</th>\n",
       "      <td>wild animal</td>\n",
       "      <td>carnivore</td>\n",
       "      <td>terrestrial animal</td>\n",
       "      <td>reptile</td>\n",
       "      <td>animal found in the Americas</td>\n",
       "      <td>lizard</td>\n",
       "      <td>glass lizard</td>\n",
       "    </tr>\n",
       "    <tr>\n",
       "      <th>296</th>\n",
       "      <td>wild animal</td>\n",
       "      <td>carnivore</td>\n",
       "      <td>terrestrial animal</td>\n",
       "      <td>reptile</td>\n",
       "      <td>animal found in Eurasia</td>\n",
       "      <td>lizard</td>\n",
       "      <td>glass lizard</td>\n",
       "    </tr>\n",
       "    <tr>\n",
       "      <th>297</th>\n",
       "      <td>wild animal</td>\n",
       "      <td>insectivore</td>\n",
       "      <td>terrestrial animal</td>\n",
       "      <td>reptile</td>\n",
       "      <td>animal found in the Americas</td>\n",
       "      <td>lizard</td>\n",
       "      <td>horned lizard</td>\n",
       "    </tr>\n",
       "    <tr>\n",
       "      <th>298</th>\n",
       "      <td>wild animal</td>\n",
       "      <td>herbivore</td>\n",
       "      <td>terrestrial animal</td>\n",
       "      <td>reptile</td>\n",
       "      <td>animal found in the Americas</td>\n",
       "      <td>lizard</td>\n",
       "      <td>iguana</td>\n",
       "    </tr>\n",
       "    <tr>\n",
       "      <th>299</th>\n",
       "      <td>wild animal</td>\n",
       "      <td>carnivore</td>\n",
       "      <td>terrestrial animal</td>\n",
       "      <td>reptile</td>\n",
       "      <td>animal found in Oceania</td>\n",
       "      <td>lizard</td>\n",
       "      <td>komodo dragon</td>\n",
       "    </tr>\n",
       "  </tbody>\n",
       "</table>\n",
       "<p>300 rows × 7 columns</p>\n",
       "</div>"
      ],
      "text/plain": [
       "    domesticated         diet             habitat  Kingdom  \\\n",
       "0    wild animal     omnivore  terrestrial animal   mammal   \n",
       "1    wild animal     omnivore  terrestrial animal   mammal   \n",
       "2    wild animal     omnivore  terrestrial animal   mammal   \n",
       "3    wild animal    herbivore  terrestrial animal   mammal   \n",
       "4    wild animal    herbivore  terrestrial animal   mammal   \n",
       "..           ...          ...                 ...      ...   \n",
       "295  wild animal    carnivore  terrestrial animal  reptile   \n",
       "296  wild animal    carnivore  terrestrial animal  reptile   \n",
       "297  wild animal  insectivore  terrestrial animal  reptile   \n",
       "298  wild animal    herbivore  terrestrial animal  reptile   \n",
       "299  wild animal    carnivore  terrestrial animal  reptile   \n",
       "\n",
       "                           region    subtype          species  \n",
       "0         animal found in Oceania  marsupial        bandicoot  \n",
       "1    animal found in the Americas  marsupial  flying squirrel  \n",
       "2         animal found in Eurasia  marsupial  flying squirrel  \n",
       "3         animal found in Oceania  marsupial         kangaroo  \n",
       "4         animal found in Oceania  marsupial       koala bear  \n",
       "..                            ...        ...              ...  \n",
       "295  animal found in the Americas     lizard     glass lizard  \n",
       "296       animal found in Eurasia     lizard     glass lizard  \n",
       "297  animal found in the Americas     lizard    horned lizard  \n",
       "298  animal found in the Americas     lizard           iguana  \n",
       "299       animal found in Oceania     lizard    komodo dragon  \n",
       "\n",
       "[300 rows x 7 columns]"
      ]
     },
     "execution_count": 72,
     "metadata": {},
     "output_type": "execute_result"
    }
   ],
   "source": [
    "animal_df.head(300)"
   ]
  },
  {
   "cell_type": "code",
   "execution_count": 30,
   "id": "c5acfc73-7f26-40be-a179-ab1ec95fc043",
   "metadata": {},
   "outputs": [
    {
     "name": "stdout",
     "output_type": "stream",
     "text": [
      "Size of dataset:  513\n",
      "Question 1: \n"
     ]
    },
    {
     "name": "stdin",
     "output_type": "stream",
     "text": [
      "Is it a wild animal yes\n"
     ]
    },
    {
     "name": "stdout",
     "output_type": "stream",
     "text": [
      "Question 2: \n"
     ]
    },
    {
     "name": "stdin",
     "output_type": "stream",
     "text": [
      "Is it a omnivore? no\n"
     ]
    },
    {
     "name": "stdout",
     "output_type": "stream",
     "text": [
      "Question 3: \n"
     ]
    },
    {
     "name": "stdin",
     "output_type": "stream",
     "text": [
      "Is it a herbivore? no\n"
     ]
    },
    {
     "name": "stdout",
     "output_type": "stream",
     "text": [
      "Question 4: \n"
     ]
    },
    {
     "name": "stdin",
     "output_type": "stream",
     "text": [
      "Is it a insectivore? no\n"
     ]
    },
    {
     "name": "stdout",
     "output_type": "stream",
     "text": [
      "Question 5: \n"
     ]
    },
    {
     "name": "stdin",
     "output_type": "stream",
     "text": [
      "Is it a carnivore? yes\n"
     ]
    },
    {
     "name": "stdout",
     "output_type": "stream",
     "text": [
      "Size of dataset:  192\n",
      "Question 6: \n"
     ]
    },
    {
     "name": "stdin",
     "output_type": "stream",
     "text": [
      "Is it a semi-aquatic animal? no\n"
     ]
    },
    {
     "name": "stdout",
     "output_type": "stream",
     "text": [
      "Question 7: \n"
     ]
    },
    {
     "name": "stdin",
     "output_type": "stream",
     "text": [
      "Is it a terrestrial animal? yes\n"
     ]
    },
    {
     "name": "stdout",
     "output_type": "stream",
     "text": [
      "Size of dataset:  87\n",
      "Question 8: \n"
     ]
    },
    {
     "name": "stdin",
     "output_type": "stream",
     "text": [
      "Is it a mammal? no\n"
     ]
    },
    {
     "name": "stdout",
     "output_type": "stream",
     "text": [
      "Question 9: \n"
     ]
    },
    {
     "name": "stdin",
     "output_type": "stream",
     "text": [
      "Is it a reptile? yes\n"
     ]
    },
    {
     "name": "stdout",
     "output_type": "stream",
     "text": [
      "Size of dataset:  34\n",
      "Question 10: \n"
     ]
    },
    {
     "name": "stdin",
     "output_type": "stream",
     "text": [
      "Is it a animal found worldwide? no\n"
     ]
    },
    {
     "name": "stdout",
     "output_type": "stream",
     "text": [
      "Question 11: \n"
     ]
    },
    {
     "name": "stdin",
     "output_type": "stream",
     "text": [
      "Is it a animal found in Africa? no\n"
     ]
    },
    {
     "name": "stdout",
     "output_type": "stream",
     "text": [
      "Question 12: \n"
     ]
    },
    {
     "name": "stdin",
     "output_type": "stream",
     "text": [
      "Is it a animal found in Eurasia? no\n"
     ]
    },
    {
     "name": "stdout",
     "output_type": "stream",
     "text": [
      "Question 13: \n"
     ]
    },
    {
     "name": "stdin",
     "output_type": "stream",
     "text": [
      "Is it a animal found in the Americas? yes\n"
     ]
    },
    {
     "name": "stdout",
     "output_type": "stream",
     "text": [
      "Size of dataset:  8\n",
      "Question 14: \n"
     ]
    },
    {
     "name": "stdin",
     "output_type": "stream",
     "text": [
      "Is it a snake? yes\n"
     ]
    },
    {
     "name": "stdout",
     "output_type": "stream",
     "text": [
      "Size of dataset:  6\n",
      "Species list in dataset:  ['rattlesnake', 'kingsnake', 'garter snake', 'galapagos snake', 'copperhead snake', 'boa']\n",
      "Question 15: \n"
     ]
    },
    {
     "name": "stdin",
     "output_type": "stream",
     "text": [
      "Is it a rattlesnake? yes\n"
     ]
    },
    {
     "name": "stdout",
     "output_type": "stream",
     "text": [
      "Size of dataset:  1\n"
     ]
    },
    {
     "data": {
      "text/plain": [
       "'\\nTO DO:\\n2. Add animals - stoat,\\n3. Dinosaur is not reptile - maybe delete\\n4. Skip nan columns - if the last column is nan, break and print I win\\n5. add a/an functionality\\n7. Add Question Counter\\n8. Add functionality to end game after 20 questions\\n9. Add smarter functionality\\n    - choose shorter or longer categories first\\n    - if all categories in the filtered dataset are the same, just go straight to species\\n    - if all other questions have been asked, no need to ask the final question in a column\\n'"
      ]
     },
     "execution_count": 30,
     "metadata": {},
     "output_type": "execute_result"
    }
   ],
   "source": [
    "'''\n",
    "TO DO:\n",
    "9. Add smarter functionality\n",
    "    - choose shorter or longer categories first\n",
    "10. Add learning capabilities\n",
    "    - if the user wins, they fill a form to add their animal to the database\n",
    "'''"
   ]
  },
  {
   "cell_type": "code",
   "execution_count": 51,
   "id": "f99d4d47-a332-4eae-8d8d-b00f8c655460",
   "metadata": {},
   "outputs": [],
   "source": [
    "#chooses a or an for questions with vowels\n",
    "def make_an(next_word):\n",
    "    vowels = re.compile(\"^[aeiouAEIOU]\")\n",
    "    match = vowels.match(next_word)\n",
    "    if match:\n",
    "       return 'an'\n",
    "    else:\n",
    "       return 'a'"
   ]
  },
  {
   "cell_type": "code",
   "execution_count": 62,
   "id": "14a5568a-0f8e-420c-9ec8-86bb4df78a86",
   "metadata": {},
   "outputs": [
    {
     "name": "stdout",
     "output_type": "stream",
     "text": [
      "Question 1: \n"
     ]
    },
    {
     "name": "stdin",
     "output_type": "stream",
     "text": [
      "Is it a wild animal? yes\n"
     ]
    },
    {
     "name": "stdout",
     "output_type": "stream",
     "text": [
      "Question 2: \n"
     ]
    },
    {
     "name": "stdin",
     "output_type": "stream",
     "text": [
      "Is it an omnivore? yes\n"
     ]
    },
    {
     "name": "stdout",
     "output_type": "stream",
     "text": [
      "Question 3: \n"
     ]
    },
    {
     "name": "stdin",
     "output_type": "stream",
     "text": [
      "Is it a terrestrial animal? no\n"
     ]
    },
    {
     "name": "stdout",
     "output_type": "stream",
     "text": [
      "Size of dataset:  43\n",
      "Question 4: \n"
     ]
    },
    {
     "name": "stdin",
     "output_type": "stream",
     "text": [
      "Is it a semi-aquatic animal? no\n"
     ]
    },
    {
     "name": "stdout",
     "output_type": "stream",
     "text": [
      "Question 5: \n"
     ]
    },
    {
     "ename": "KeyboardInterrupt",
     "evalue": "Interrupted by user",
     "output_type": "error",
     "traceback": [
      "\u001b[0;31m---------------------------------------------------------------------------\u001b[0m",
      "\u001b[0;31mKeyboardInterrupt\u001b[0m                         Traceback (most recent call last)",
      "\u001b[0;32m/var/folders/v1/ymptnwwx3x1b7_mw0nns09wr0000gn/T/ipykernel_66266/1719761829.py\u001b[0m in \u001b[0;36m<module>\u001b[0;34m\u001b[0m\n\u001b[1;32m     36\u001b[0m \u001b[0;34m\u001b[0m\u001b[0m\n\u001b[1;32m     37\u001b[0m \u001b[0;32mfor\u001b[0m \u001b[0mcolumn\u001b[0m \u001b[0;32min\u001b[0m \u001b[0mrange\u001b[0m\u001b[0;34m(\u001b[0m\u001b[0mlen\u001b[0m\u001b[0;34m(\u001b[0m\u001b[0mcolumns\u001b[0m\u001b[0;34m)\u001b[0m\u001b[0;34m)\u001b[0m\u001b[0;34m:\u001b[0m\u001b[0;34m\u001b[0m\u001b[0;34m\u001b[0m\u001b[0m\n\u001b[0;32m---> 38\u001b[0;31m     \u001b[0mfiltered_animals\u001b[0m \u001b[0;34m=\u001b[0m \u001b[0mloop_questions\u001b[0m\u001b[0;34m(\u001b[0m\u001b[0mcolumns\u001b[0m\u001b[0;34m[\u001b[0m\u001b[0mcolumn\u001b[0m\u001b[0;34m]\u001b[0m\u001b[0;34m,\u001b[0m\u001b[0mfiltered_animals\u001b[0m\u001b[0;34m)\u001b[0m\u001b[0;34m\u001b[0m\u001b[0;34m\u001b[0m\u001b[0m\n\u001b[0m\u001b[1;32m     39\u001b[0m \u001b[0;34m\u001b[0m\u001b[0m\n\u001b[1;32m     40\u001b[0m \u001b[0mfiltered_animals\u001b[0m\u001b[0;34m=\u001b[0m\u001b[0manimal_df\u001b[0m\u001b[0;34m\u001b[0m\u001b[0;34m\u001b[0m\u001b[0m\n",
      "\u001b[0;32m/var/folders/v1/ymptnwwx3x1b7_mw0nns09wr0000gn/T/ipykernel_66266/1719761829.py\u001b[0m in \u001b[0;36mloop_questions\u001b[0;34m(column, filtered_animals)\u001b[0m\n\u001b[1;32m     11\u001b[0m         \u001b[0;32mif\u001b[0m \u001b[0mpd\u001b[0m\u001b[0;34m.\u001b[0m\u001b[0mnotna\u001b[0m\u001b[0;34m(\u001b[0m\u001b[0manimal\u001b[0m\u001b[0;34m)\u001b[0m\u001b[0;34m:\u001b[0m\u001b[0;34m\u001b[0m\u001b[0;34m\u001b[0m\u001b[0m\n\u001b[1;32m     12\u001b[0m             \u001b[0ma_an\u001b[0m \u001b[0;34m=\u001b[0m \u001b[0mmake_an\u001b[0m\u001b[0;34m(\u001b[0m\u001b[0manimal\u001b[0m\u001b[0;34m)\u001b[0m\u001b[0;34m\u001b[0m\u001b[0;34m\u001b[0m\u001b[0m\n\u001b[0;32m---> 13\u001b[0;31m             \u001b[0mresponse\u001b[0m \u001b[0;34m=\u001b[0m \u001b[0minput\u001b[0m\u001b[0;34m(\u001b[0m\u001b[0;34mf\"Is it {a_an} {animal}?\"\u001b[0m\u001b[0;34m)\u001b[0m\u001b[0;34m\u001b[0m\u001b[0;34m\u001b[0m\u001b[0m\n\u001b[0m\u001b[1;32m     14\u001b[0m             \u001b[0mquestion_counter\u001b[0m\u001b[0;34m+=\u001b[0m\u001b[0;36m1\u001b[0m\u001b[0;34m\u001b[0m\u001b[0;34m\u001b[0m\u001b[0m\n\u001b[1;32m     15\u001b[0m             \u001b[0;32mif\u001b[0m \u001b[0mresponse\u001b[0m \u001b[0;34m==\u001b[0m \u001b[0;34m\"no\"\u001b[0m\u001b[0;34m:\u001b[0m\u001b[0;34m\u001b[0m\u001b[0;34m\u001b[0m\u001b[0m\n",
      "\u001b[0;32m~/opt/anaconda3/lib/python3.9/site-packages/ipykernel/kernelbase.py\u001b[0m in \u001b[0;36mraw_input\u001b[0;34m(self, prompt)\u001b[0m\n\u001b[1;32m   1249\u001b[0m             \u001b[0mmsg\u001b[0m \u001b[0;34m=\u001b[0m \u001b[0;34m\"raw_input was called, but this frontend does not support input requests.\"\u001b[0m\u001b[0;34m\u001b[0m\u001b[0;34m\u001b[0m\u001b[0m\n\u001b[1;32m   1250\u001b[0m             \u001b[0;32mraise\u001b[0m \u001b[0mStdinNotImplementedError\u001b[0m\u001b[0;34m(\u001b[0m\u001b[0mmsg\u001b[0m\u001b[0;34m)\u001b[0m\u001b[0;34m\u001b[0m\u001b[0;34m\u001b[0m\u001b[0m\n\u001b[0;32m-> 1251\u001b[0;31m         return self._input_request(\n\u001b[0m\u001b[1;32m   1252\u001b[0m             \u001b[0mstr\u001b[0m\u001b[0;34m(\u001b[0m\u001b[0mprompt\u001b[0m\u001b[0;34m)\u001b[0m\u001b[0;34m,\u001b[0m\u001b[0;34m\u001b[0m\u001b[0;34m\u001b[0m\u001b[0m\n\u001b[1;32m   1253\u001b[0m             \u001b[0mself\u001b[0m\u001b[0;34m.\u001b[0m\u001b[0m_parent_ident\u001b[0m\u001b[0;34m[\u001b[0m\u001b[0;34m\"shell\"\u001b[0m\u001b[0;34m]\u001b[0m\u001b[0;34m,\u001b[0m\u001b[0;34m\u001b[0m\u001b[0;34m\u001b[0m\u001b[0m\n",
      "\u001b[0;32m~/opt/anaconda3/lib/python3.9/site-packages/ipykernel/kernelbase.py\u001b[0m in \u001b[0;36m_input_request\u001b[0;34m(self, prompt, ident, parent, password)\u001b[0m\n\u001b[1;32m   1293\u001b[0m                 \u001b[0;31m# re-raise KeyboardInterrupt, to truncate traceback\u001b[0m\u001b[0;34m\u001b[0m\u001b[0;34m\u001b[0m\u001b[0m\n\u001b[1;32m   1294\u001b[0m                 \u001b[0mmsg\u001b[0m \u001b[0;34m=\u001b[0m \u001b[0;34m\"Interrupted by user\"\u001b[0m\u001b[0;34m\u001b[0m\u001b[0;34m\u001b[0m\u001b[0m\n\u001b[0;32m-> 1295\u001b[0;31m                 \u001b[0;32mraise\u001b[0m \u001b[0mKeyboardInterrupt\u001b[0m\u001b[0;34m(\u001b[0m\u001b[0mmsg\u001b[0m\u001b[0;34m)\u001b[0m \u001b[0;32mfrom\u001b[0m \u001b[0;32mNone\u001b[0m\u001b[0;34m\u001b[0m\u001b[0;34m\u001b[0m\u001b[0m\n\u001b[0m\u001b[1;32m   1296\u001b[0m             \u001b[0;32mexcept\u001b[0m \u001b[0mException\u001b[0m\u001b[0;34m:\u001b[0m\u001b[0;34m\u001b[0m\u001b[0;34m\u001b[0m\u001b[0m\n\u001b[1;32m   1297\u001b[0m                 \u001b[0mself\u001b[0m\u001b[0;34m.\u001b[0m\u001b[0mlog\u001b[0m\u001b[0;34m.\u001b[0m\u001b[0mwarning\u001b[0m\u001b[0;34m(\u001b[0m\u001b[0;34m\"Invalid Message:\"\u001b[0m\u001b[0;34m,\u001b[0m \u001b[0mexc_info\u001b[0m\u001b[0;34m=\u001b[0m\u001b[0;32mTrue\u001b[0m\u001b[0;34m)\u001b[0m\u001b[0;34m\u001b[0m\u001b[0;34m\u001b[0m\u001b[0m\n",
      "\u001b[0;31mKeyboardInterrupt\u001b[0m: Interrupted by user"
     ]
    }
   ],
   "source": [
    "question_counter = 1\n",
    "filtered_animals = animal_df\n",
    "\n",
    "def loop_questions(column,filtered_animals):\n",
    "    global question_counter\n",
    "    #print(\"Size of dataset: \",len(filtered_animals))\n",
    "    list = filtered_animals[column].unique().tolist()\n",
    "\n",
    "    for animal in list:\n",
    "        print(f\"Question {question_counter}: \")\n",
    "        if pd.notna(animal):\n",
    "            a_an = make_an(animal)\n",
    "            response = input(f\"Is it {a_an} {animal}?\")\n",
    "            question_counter+=1\n",
    "            if response == \"no\":\n",
    "                filtered_animals = filtered_animals.loc[filtered_animals[column]!=animal]\n",
    "            if (question_counter<=20) & (len(filtered_animals)==1) & (response==\"yes\"):\n",
    "                print(f\"Amazing. So it's a {animal}. I win!\")\n",
    "                return filtered_animals\n",
    "            if (len(filtered_animals[column].unique())==1):\n",
    "                return filtered_animals\n",
    "            if response == \"yes\":\n",
    "                filtered_animals = filtered_animals.loc[filtered_animals[column]==animal]\n",
    "                break\n",
    "            if (question_counter>20):\n",
    "                print(\"That's 20 questions! You win!\")\n",
    "                return filtered_animals\n",
    "            if (len(filtered_animals)==0):\n",
    "                print(\"I'm out of ideas. You win!\")\n",
    "                return filtered_animals\n",
    "            print(\"Size of dataset: \",len(filtered_animals))\n",
    "        \n",
    "    return filtered_animals\n",
    "\n",
    "columns = ['domesticated','diet','habitat','Kingdom','region','subtype','species']\n",
    "\n",
    "for column in range(len(columns)):\n",
    "    filtered_animals = loop_questions(columns[column],filtered_animals)\n",
    "\n",
    "filtered_animals=animal_df"
   ]
  },
  {
   "cell_type": "code",
   "execution_count": null,
   "id": "7f307ad4-30ed-4c47-b07c-cc276989b794",
   "metadata": {},
   "outputs": [],
   "source": [
    "#go through each list, ask unique values\n",
    "#should start with domesticated rather than wild, aquatic rather than terrestrial, but region start with the most common"
   ]
  }
 ],
 "metadata": {
  "kernelspec": {
   "display_name": "Python 3 (ipykernel)",
   "language": "python",
   "name": "python3"
  },
  "language_info": {
   "codemirror_mode": {
    "name": "ipython",
    "version": 3
   },
   "file_extension": ".py",
   "mimetype": "text/x-python",
   "name": "python",
   "nbconvert_exporter": "python",
   "pygments_lexer": "ipython3",
   "version": "3.9.13"
  }
 },
 "nbformat": 4,
 "nbformat_minor": 5
}
