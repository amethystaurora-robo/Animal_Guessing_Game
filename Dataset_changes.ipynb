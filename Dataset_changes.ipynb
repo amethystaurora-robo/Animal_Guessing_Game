{
 "cells": [
  {
   "cell_type": "code",
   "execution_count": 48,
   "id": "7bfbf9ba",
   "metadata": {},
   "outputs": [],
   "source": [
    "import numpy as np\n",
    "import pandas as pd\n",
    "import re"
   ]
  },
  {
   "cell_type": "code",
   "execution_count": 71,
   "id": "c54d31c9",
   "metadata": {},
   "outputs": [],
   "source": [
    "animal_df = pd.read_csv('animal_df.csv',index_col=False)"
   ]
  },
  {
   "cell_type": "code",
   "execution_count": 75,
   "id": "19c9b9ca",
   "metadata": {},
   "outputs": [
    {
     "name": "stdout",
     "output_type": "stream",
     "text": [
      "0.07765151515151515\n"
     ]
    }
   ],
   "source": [
    "animal_df.head(300)"
   ]
  },
  {
   "cell_type": "code",
   "execution_count": 30,
   "id": "c5acfc73-7f26-40be-a179-ab1ec95fc043",
   "metadata": {},
   "outputs": [
    {
     "name": "stdout",
     "output_type": "stream",
     "text": [
      "Size of dataset:  513\n",
      "Question 1: \n"
     ]
    },
    {
     "name": "stdin",
     "output_type": "stream",
     "text": [
      "Is it a wild animal yes\n"
     ]
    },
    {
     "name": "stdout",
     "output_type": "stream",
     "text": [
      "Question 2: \n"
     ]
    },
    {
     "name": "stdin",
     "output_type": "stream",
     "text": [
      "Is it a omnivore? no\n"
     ]
    },
    {
     "name": "stdout",
     "output_type": "stream",
     "text": [
      "Question 3: \n"
     ]
    },
    {
     "name": "stdin",
     "output_type": "stream",
     "text": [
      "Is it a herbivore? no\n"
     ]
    },
    {
     "name": "stdout",
     "output_type": "stream",
     "text": [
      "Question 4: \n"
     ]
    },
    {
     "name": "stdin",
     "output_type": "stream",
     "text": [
      "Is it a insectivore? no\n"
     ]
    },
    {
     "name": "stdout",
     "output_type": "stream",
     "text": [
      "Question 5: \n"
     ]
    },
    {
     "name": "stdin",
     "output_type": "stream",
     "text": [
      "Is it a carnivore? yes\n"
     ]
    },
    {
     "name": "stdout",
     "output_type": "stream",
     "text": [
      "Size of dataset:  192\n",
      "Question 6: \n"
     ]
    },
    {
     "name": "stdin",
     "output_type": "stream",
     "text": [
      "Is it a semi-aquatic animal? no\n"
     ]
    },
    {
     "name": "stdout",
     "output_type": "stream",
     "text": [
      "Question 7: \n"
     ]
    },
    {
     "name": "stdin",
     "output_type": "stream",
     "text": [
      "Is it a terrestrial animal? yes\n"
     ]
    },
    {
     "name": "stdout",
     "output_type": "stream",
     "text": [
      "Size of dataset:  87\n",
      "Question 8: \n"
     ]
    },
    {
     "name": "stdin",
     "output_type": "stream",
     "text": [
      "Is it a mammal? no\n"
     ]
    },
    {
     "name": "stdout",
     "output_type": "stream",
     "text": [
      "Question 9: \n"
     ]
    },
    {
     "name": "stdin",
     "output_type": "stream",
     "text": [
      "Is it a reptile? yes\n"
     ]
    },
    {
     "name": "stdout",
     "output_type": "stream",
     "text": [
      "Size of dataset:  34\n",
      "Question 10: \n"
     ]
    },
    {
     "name": "stdin",
     "output_type": "stream",
     "text": [
      "Is it a animal found worldwide? no\n"
     ]
    },
    {
     "name": "stdout",
     "output_type": "stream",
     "text": [
      "Question 11: \n"
     ]
    },
    {
     "name": "stdin",
     "output_type": "stream",
     "text": [
      "Is it a animal found in Africa? no\n"
     ]
    },
    {
     "name": "stdout",
     "output_type": "stream",
     "text": [
      "Question 12: \n"
     ]
    },
    {
     "name": "stdin",
     "output_type": "stream",
     "text": [
      "Is it a animal found in Eurasia? no\n"
     ]
    },
    {
     "name": "stdout",
     "output_type": "stream",
     "text": [
      "Question 13: \n"
     ]
    },
    {
     "name": "stdin",
     "output_type": "stream",
     "text": [
      "Is it a animal found in the Americas? yes\n"
     ]
    },
    {
     "name": "stdout",
     "output_type": "stream",
     "text": [
      "Size of dataset:  8\n",
      "Question 14: \n"
     ]
    },
    {
     "name": "stdin",
     "output_type": "stream",
     "text": [
      "Is it a snake? yes\n"
     ]
    },
    {
     "name": "stdout",
     "output_type": "stream",
     "text": [
      "Size of dataset:  6\n",
      "Species list in dataset:  ['rattlesnake', 'kingsnake', 'garter snake', 'galapagos snake', 'copperhead snake', 'boa']\n",
      "Question 15: \n"
     ]
    },
    {
     "name": "stdin",
     "output_type": "stream",
     "text": [
      "Is it a rattlesnake? yes\n"
     ]
    },
    {
     "name": "stdout",
     "output_type": "stream",
     "text": [
      "Size of dataset:  1\n"
     ]
    },
    {
     "data": {
      "text/plain": [
       "'\\nTO DO:\\n2. Add animals - stoat,\\n3. Dinosaur is not reptile - maybe delete\\n4. Skip nan columns - if the last column is nan, break and print I win\\n5. add a/an functionality\\n7. Add Question Counter\\n8. Add functionality to end game after 20 questions\\n9. Add smarter functionality\\n    - choose shorter or longer categories first\\n    - if all categories in the filtered dataset are the same, just go straight to species\\n    - if all other questions have been asked, no need to ask the final question in a column\\n'"
      ]
     },
     "execution_count": 30,
     "metadata": {},
     "output_type": "execute_result"
    }
   ],
   "source": [
    "'''\n",
    "TO DO:\n",
    "10. Add learning capabilities\n",
    "    - if the user wins, they fill a form to add their animal to the database\n",
    "11. if the animal is found worldwide, it is also found in each continent. (use SQL in another file)\n",
    "12. Figure out front-end to link to a website\n",
    "'''"
   ]
  },
  {
   "cell_type": "code",
   "execution_count": 51,
   "id": "f99d4d47-a332-4eae-8d8d-b00f8c655460",
   "metadata": {},
   "outputs": [],
   "source": [
    "#chooses a or an for questions with vowels\n",
    "def make_an(next_word):\n",
    "    vowels = re.compile(\"^[aeiouAEIOU]\")\n",
    "    match = vowels.match(next_word)\n",
    "    if match:\n",
    "       return 'an'\n",
    "    else:\n",
    "       return 'a'"
   ]
  },
  {
   "cell_type": "code",
   "execution_count": 73,
   "id": "14a5568a-0f8e-420c-9ec8-86bb4df78a86",
   "metadata": {},
   "outputs": [
    {
     "name": "stdout",
     "output_type": "stream",
     "text": [
      "Question 1: \n"
     ]
    },
    {
     "name": "stdin",
     "output_type": "stream",
     "text": [
      "Is it a domesticated animal? yes\n"
     ]
    },
    {
     "name": "stdout",
     "output_type": "stream",
     "text": [
      "Question 2: \n"
     ]
    },
    {
     "name": "stdin",
     "output_type": "stream",
     "text": [
      "Is it a carnivore? no\n"
     ]
    },
    {
     "name": "stdout",
     "output_type": "stream",
     "text": [
      "Size of dataset:  46\n",
      "Question 3: \n"
     ]
    },
    {
     "name": "stdin",
     "output_type": "stream",
     "text": [
      "Is it a herbivore? yes\n"
     ]
    },
    {
     "name": "stdout",
     "output_type": "stream",
     "text": [
      "Question 4: \n"
     ]
    },
    {
     "name": "stdin",
     "output_type": "stream",
     "text": [
      "Is it a semi-aquatic animal? no\n"
     ]
    },
    {
     "name": "stdout",
     "output_type": "stream",
     "text": [
      "Question 5: \n"
     ]
    },
    {
     "name": "stdin",
     "output_type": "stream",
     "text": [
      "Is it a bird? no\n"
     ]
    },
    {
     "name": "stdout",
     "output_type": "stream",
     "text": [
      "Question 6: \n"
     ]
    },
    {
     "name": "stdin",
     "output_type": "stream",
     "text": [
      "Is it an animal found in Africa? no\n"
     ]
    },
    {
     "name": "stdout",
     "output_type": "stream",
     "text": [
      "Size of dataset:  16\n",
      "Question 7: \n"
     ]
    },
    {
     "name": "stdin",
     "output_type": "stream",
     "text": [
      "Is it an animal found in Eurasia? no\n"
     ]
    },
    {
     "name": "stdout",
     "output_type": "stream",
     "text": [
      "Size of dataset:  14\n",
      "Question 8: \n"
     ]
    },
    {
     "name": "stdin",
     "output_type": "stream",
     "text": [
      "Is it an animal found in the Americas? yes\n"
     ]
    },
    {
     "name": "stdout",
     "output_type": "stream",
     "text": [
      "Question 9: \n"
     ]
    },
    {
     "name": "stdin",
     "output_type": "stream",
     "text": [
      "Is it an animal with horns antlers or tusks? yes\n"
     ]
    },
    {
     "name": "stdout",
     "output_type": "stream",
     "text": [
      "Question 10: \n"
     ]
    },
    {
     "name": "stdin",
     "output_type": "stream",
     "text": [
      "Is it a buffalo? no\n"
     ]
    },
    {
     "name": "stdout",
     "output_type": "stream",
     "text": [
      "I'm out of ideas. You win!\n"
     ]
    }
   ],
   "source": [
    "question_counter = 1\n",
    "filtered_animals = animal_df\n",
    "\n",
    "def loop_questions(column,filtered_animals):\n",
    "    global question_counter\n",
    "    #print(\"Size of dataset: \",len(filtered_animals))\n",
    "    list = filtered_animals[column].sort_values().unique().tolist()\n",
    "\n",
    "    for animal in list:\n",
    "        print(f\"Question {question_counter}: \")\n",
    "        if pd.notna(animal):\n",
    "            a_an = make_an(animal)\n",
    "            response = input(f\"Is it {a_an} {animal}?\")\n",
    "            question_counter+=1\n",
    "            if response == \"no\":\n",
    "                filtered_animals = filtered_animals.loc[filtered_animals[column]!=animal]\n",
    "            if (question_counter<=20) & (len(filtered_animals)==1) & (response==\"yes\"):\n",
    "                print(f\"Amazing. So it's a {animal}. I win!\")\n",
    "                return filtered_animals\n",
    "            if (len(filtered_animals[column].unique())==1):\n",
    "                return filtered_animals\n",
    "            if response == \"yes\":\n",
    "                filtered_animals = filtered_animals.loc[filtered_animals[column]==animal]\n",
    "                break\n",
    "            if (question_counter>20):\n",
    "                print(\"That's 20 questions! You win!\")\n",
    "                return filtered_animals\n",
    "            if (len(filtered_animals)==0):\n",
    "                print(\"I'm out of ideas. You win!\")\n",
    "                return filtered_animals\n",
    "            print(\"Size of dataset: \",len(filtered_animals))\n",
    "        \n",
    "    return filtered_animals\n",
    "\n",
    "columns = ['domesticated','diet','habitat','Kingdom','region','subtype','species']\n",
    "\n",
    "for column in range(len(columns)):\n",
    "    filtered_animals = loop_questions(columns[column],filtered_animals)\n",
    "\n",
    "filtered_animals=animal_df"
   ]
  },
  {
   "cell_type": "code",
   "execution_count": null,
   "id": "7f307ad4-30ed-4c47-b07c-cc276989b794",
   "metadata": {},
   "outputs": [],
   "source": [
    "#go through each list, ask unique values\n",
    "#should start with domesticated rather than wild, aquatic rather than terrestrial, but region start with the most common"
   ]
  }
 ],
 "metadata": {
  "kernelspec": {
   "display_name": "Python 3 (ipykernel)",
   "language": "python",
   "name": "python3"
  },
  "language_info": {
   "codemirror_mode": {
    "name": "ipython",
    "version": 3
   },
   "file_extension": ".py",
   "mimetype": "text/x-python",
   "name": "python",
   "nbconvert_exporter": "python",
   "pygments_lexer": "ipython3",
   "version": "3.9.13"
  }
 },
 "nbformat": 4,
 "nbformat_minor": 5
}
