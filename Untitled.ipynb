{
 "cells": [
  {
   "cell_type": "code",
   "execution_count": null,
   "id": "5f1b8d0a",
   "metadata": {},
   "outputs": [],
   "source": [
    "<!DOCTYPE html>\n",
    "<html lang=\"en\">\n",
    "<head>\n",
    "\t<link rel='stylesheet' href='animal_style.css'>\n",
    "\t<link rel='pyscript' href='Animal Guessing Game.ipynb'>\n",
    "\t<script defer src=\"https://pyscript.net/alpha/pyscript.js\"></script>\n",
    "\t<py-env>\n",
    "        - paths:\n",
    "          - Animal Guessing Game.ipynb\n",
    "      </py-env>\n",
    "    <title>Animal Guessing Game</title>\n",
    "</head>\n",
    "<br /> <br /><br />\n",
    "<body>\n",
    "    Think of an animal.\n",
    "    <br /> <br /> <br />\n",
    "    <b>Is it a <label id='current_animal'></label></b>\n",
    "    <pyscript>\n",
    "    \tfrom pyscript import current_animal()\n",
    "    \tpyscript.write('current_animal', current_animal())\n",
    "    </py-script>\n",
    "    <button type=\"submit\" id='yes'><a>Yes</a></button>\n",
    "    <button type=\"submit\" id='no'><a>No</a></button>\n",
    "    <pyscript> </pyscript>\n",
    "    <br /><br /><br />\n",
    "</body>\n",
    "<footer>\n",
    "</footer>\n",
    "</html>"
   ]
  },
  {
   "cell_type": "code",
   "execution_count": null,
   "id": "58d9a962",
   "metadata": {},
   "outputs": [],
   "source": []
  }
 ],
 "metadata": {
  "kernelspec": {
   "display_name": "Python 3 (ipykernel)",
   "language": "python",
   "name": "python3"
  },
  "language_info": {
   "codemirror_mode": {
    "name": "ipython",
    "version": 3
   },
   "file_extension": ".py",
   "mimetype": "text/x-python",
   "name": "python",
   "nbconvert_exporter": "python",
   "pygments_lexer": "ipython3",
   "version": "3.9.13"
  }
 },
 "nbformat": 4,
 "nbformat_minor": 5
}
