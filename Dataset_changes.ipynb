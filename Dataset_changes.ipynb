{
 "cells": [
  {
   "cell_type": "code",
   "execution_count": 18,
   "id": "7bfbf9ba",
   "metadata": {},
   "outputs": [],
   "source": [
    "import numpy as np\n",
    "import pandas as pd\n",
    "import re"
   ]
  },
  {
   "cell_type": "code",
   "execution_count": 19,
   "id": "c54d31c9",
   "metadata": {},
   "outputs": [],
   "source": [
    "animal_df = pd.read_csv('animals_fixed.csv',index_col=False)"
   ]
  },
  {
   "cell_type": "code",
   "execution_count": 20,
   "id": "19c9b9ca",
   "metadata": {},
   "outputs": [
    {
     "data": {
      "text/html": [
       "<div>\n",
       "<style scoped>\n",
       "    .dataframe tbody tr th:only-of-type {\n",
       "        vertical-align: middle;\n",
       "    }\n",
       "\n",
       "    .dataframe tbody tr th {\n",
       "        vertical-align: top;\n",
       "    }\n",
       "\n",
       "    .dataframe thead th {\n",
       "        text-align: right;\n",
       "    }\n",
       "</style>\n",
       "<table border=\"1\" class=\"dataframe\">\n",
       "  <thead>\n",
       "    <tr style=\"text-align: right;\">\n",
       "      <th></th>\n",
       "      <th>domesticated</th>\n",
       "      <th>diet</th>\n",
       "      <th>habitat</th>\n",
       "      <th>Kingdom</th>\n",
       "      <th>region</th>\n",
       "      <th>subtype</th>\n",
       "      <th>species</th>\n",
       "    </tr>\n",
       "  </thead>\n",
       "  <tbody>\n",
       "    <tr>\n",
       "      <th>0</th>\n",
       "      <td>wild animal</td>\n",
       "      <td>omnivore</td>\n",
       "      <td>terrestrial animal</td>\n",
       "      <td>mammal</td>\n",
       "      <td>animal found in Oceania</td>\n",
       "      <td>marsupial</td>\n",
       "      <td>bandicoot</td>\n",
       "    </tr>\n",
       "    <tr>\n",
       "      <th>1</th>\n",
       "      <td>wild animal</td>\n",
       "      <td>omnivore</td>\n",
       "      <td>terrestrial animal</td>\n",
       "      <td>mammal</td>\n",
       "      <td>animal found in the Americas</td>\n",
       "      <td>marsupial</td>\n",
       "      <td>flying squirrel</td>\n",
       "    </tr>\n",
       "    <tr>\n",
       "      <th>2</th>\n",
       "      <td>wild animal</td>\n",
       "      <td>omnivore</td>\n",
       "      <td>terrestrial animal</td>\n",
       "      <td>mammal</td>\n",
       "      <td>animal found in Eurasia</td>\n",
       "      <td>marsupial</td>\n",
       "      <td>flying squirrel</td>\n",
       "    </tr>\n",
       "    <tr>\n",
       "      <th>3</th>\n",
       "      <td>wild animal</td>\n",
       "      <td>herbivore</td>\n",
       "      <td>terrestrial animal</td>\n",
       "      <td>mammal</td>\n",
       "      <td>animal found in Oceania</td>\n",
       "      <td>marsupial</td>\n",
       "      <td>kangaroo</td>\n",
       "    </tr>\n",
       "    <tr>\n",
       "      <th>4</th>\n",
       "      <td>wild animal</td>\n",
       "      <td>herbivore</td>\n",
       "      <td>terrestrial animal</td>\n",
       "      <td>mammal</td>\n",
       "      <td>animal found in Oceania</td>\n",
       "      <td>marsupial</td>\n",
       "      <td>koala bear</td>\n",
       "    </tr>\n",
       "    <tr>\n",
       "      <th>...</th>\n",
       "      <td>...</td>\n",
       "      <td>...</td>\n",
       "      <td>...</td>\n",
       "      <td>...</td>\n",
       "      <td>...</td>\n",
       "      <td>...</td>\n",
       "      <td>...</td>\n",
       "    </tr>\n",
       "    <tr>\n",
       "      <th>295</th>\n",
       "      <td>wild animal</td>\n",
       "      <td>carnivore</td>\n",
       "      <td>semi-aquatic animal</td>\n",
       "      <td>reptile</td>\n",
       "      <td>animal found in the Americas</td>\n",
       "      <td>a reptile apart from a lizard or snake</td>\n",
       "      <td>alligator</td>\n",
       "    </tr>\n",
       "    <tr>\n",
       "      <th>296</th>\n",
       "      <td>wild animal</td>\n",
       "      <td>carnivore</td>\n",
       "      <td>semi-aquatic animal</td>\n",
       "      <td>reptile</td>\n",
       "      <td>animal found in Eurasia</td>\n",
       "      <td>a reptile apart from a lizard or snake</td>\n",
       "      <td>alligator</td>\n",
       "    </tr>\n",
       "    <tr>\n",
       "      <th>297</th>\n",
       "      <td>wild animal</td>\n",
       "      <td>carnivore</td>\n",
       "      <td>semi-aquatic animal</td>\n",
       "      <td>reptile</td>\n",
       "      <td>animal found in the Americas</td>\n",
       "      <td>a reptile apart from a lizard or snake</td>\n",
       "      <td>caimain</td>\n",
       "    </tr>\n",
       "    <tr>\n",
       "      <th>298</th>\n",
       "      <td>wild animal</td>\n",
       "      <td>carnivore</td>\n",
       "      <td>semi-aquatic animal</td>\n",
       "      <td>reptile</td>\n",
       "      <td>animal found worldwide</td>\n",
       "      <td>a reptile apart from a lizard or snake</td>\n",
       "      <td>crocodile</td>\n",
       "    </tr>\n",
       "    <tr>\n",
       "      <th>299</th>\n",
       "      <td>wild animal</td>\n",
       "      <td>carnivore</td>\n",
       "      <td>terrestrial animal</td>\n",
       "      <td>reptile</td>\n",
       "      <td>animal found worldwide</td>\n",
       "      <td>a reptile apart from a lizard or snake</td>\n",
       "      <td>dinosaur</td>\n",
       "    </tr>\n",
       "  </tbody>\n",
       "</table>\n",
       "<p>300 rows × 7 columns</p>\n",
       "</div>"
      ],
      "text/plain": [
       "    domesticated       diet              habitat  Kingdom  \\\n",
       "0    wild animal   omnivore   terrestrial animal   mammal   \n",
       "1    wild animal   omnivore   terrestrial animal   mammal   \n",
       "2    wild animal   omnivore   terrestrial animal   mammal   \n",
       "3    wild animal  herbivore   terrestrial animal   mammal   \n",
       "4    wild animal  herbivore   terrestrial animal   mammal   \n",
       "..           ...        ...                  ...      ...   \n",
       "295  wild animal  carnivore  semi-aquatic animal  reptile   \n",
       "296  wild animal  carnivore  semi-aquatic animal  reptile   \n",
       "297  wild animal  carnivore  semi-aquatic animal  reptile   \n",
       "298  wild animal  carnivore  semi-aquatic animal  reptile   \n",
       "299  wild animal  carnivore   terrestrial animal  reptile   \n",
       "\n",
       "                           region                                 subtype  \\\n",
       "0         animal found in Oceania                               marsupial   \n",
       "1    animal found in the Americas                               marsupial   \n",
       "2         animal found in Eurasia                               marsupial   \n",
       "3         animal found in Oceania                               marsupial   \n",
       "4         animal found in Oceania                               marsupial   \n",
       "..                            ...                                     ...   \n",
       "295  animal found in the Americas  a reptile apart from a lizard or snake   \n",
       "296       animal found in Eurasia  a reptile apart from a lizard or snake   \n",
       "297  animal found in the Americas  a reptile apart from a lizard or snake   \n",
       "298        animal found worldwide  a reptile apart from a lizard or snake   \n",
       "299        animal found worldwide  a reptile apart from a lizard or snake   \n",
       "\n",
       "             species  \n",
       "0          bandicoot  \n",
       "1    flying squirrel  \n",
       "2    flying squirrel  \n",
       "3           kangaroo  \n",
       "4         koala bear  \n",
       "..               ...  \n",
       "295        alligator  \n",
       "296        alligator  \n",
       "297          caimain  \n",
       "298        crocodile  \n",
       "299         dinosaur  \n",
       "\n",
       "[300 rows x 7 columns]"
      ]
     },
     "execution_count": 20,
     "metadata": {},
     "output_type": "execute_result"
    }
   ],
   "source": [
    "animal_df.head(300)"
   ]
  },
  {
   "cell_type": "code",
   "execution_count": 4,
   "id": "c5acfc73-7f26-40be-a179-ab1ec95fc043",
   "metadata": {},
   "outputs": [
    {
     "data": {
      "text/plain": [
       "'\\nTO DO:\\n10. Add learning capabilities\\n    - if the user wins, they fill a form to add their animal to the database\\n11. if the animal is found worldwide, it is also found in each continent. (use SQL in another file)\\n12. Figure out front-end to link to a website\\n'"
      ]
     },
     "execution_count": 4,
     "metadata": {},
     "output_type": "execute_result"
    }
   ],
   "source": [
    "'''\n",
    "TO DO:\n",
    "10. Add learning capabilities\n",
    "    - if the user wins, they fill a form to add their animal to the database\n",
    "12. Figure out front-end to link to a website\n",
    "'''"
   ]
  },
  {
   "cell_type": "code",
   "execution_count": 21,
   "id": "f99d4d47-a332-4eae-8d8d-b00f8c655460",
   "metadata": {},
   "outputs": [],
   "source": [
    "#chooses a or an for questions with vowels\n",
    "def make_an(next_word):\n",
    "    vowels = re.compile(\"^[aeiouAEIOU]\")\n",
    "    match = vowels.match(next_word)\n",
    "    if match:\n",
    "       return 'an'\n",
    "    else:\n",
    "       return 'a'"
   ]
  },
  {
   "cell_type": "code",
   "execution_count": 22,
   "id": "14a5568a-0f8e-420c-9ec8-86bb4df78a86",
   "metadata": {},
   "outputs": [
    {
     "name": "stdout",
     "output_type": "stream",
     "text": [
      "Question 1: \n"
     ]
    },
    {
     "name": "stdin",
     "output_type": "stream",
     "text": [
      "Is it a domesticated animal? yes\n"
     ]
    },
    {
     "name": "stdout",
     "output_type": "stream",
     "text": [
      "Size of dataset:  187\n",
      "Question 2: \n"
     ]
    },
    {
     "name": "stdin",
     "output_type": "stream",
     "text": [
      "Is it a carnivore? no\n"
     ]
    },
    {
     "name": "stdout",
     "output_type": "stream",
     "text": [
      "Question 3: \n"
     ]
    },
    {
     "name": "stdin",
     "output_type": "stream",
     "text": [
      "Is it a herbivore? yes\n"
     ]
    },
    {
     "name": "stdout",
     "output_type": "stream",
     "text": [
      "Size of dataset:  86\n",
      "Question 4: \n"
     ]
    },
    {
     "name": "stdin",
     "output_type": "stream",
     "text": [
      "Is it a semi-aquatic animal? no\n"
     ]
    },
    {
     "name": "stdout",
     "output_type": "stream",
     "text": [
      "Size of dataset:  80\n",
      "Question 5: \n"
     ]
    },
    {
     "name": "stdin",
     "output_type": "stream",
     "text": [
      "Is it a bird? no\n"
     ]
    },
    {
     "name": "stdout",
     "output_type": "stream",
     "text": [
      "Size of dataset:  79\n",
      "Question 6: \n"
     ]
    },
    {
     "name": "stdin",
     "output_type": "stream",
     "text": [
      "Is it an animal found in Africa? no\n"
     ]
    },
    {
     "name": "stdout",
     "output_type": "stream",
     "text": [
      "Question 7: \n"
     ]
    },
    {
     "name": "stdin",
     "output_type": "stream",
     "text": [
      "Is it an animal found in Eurasia? no\n"
     ]
    },
    {
     "name": "stdout",
     "output_type": "stream",
     "text": [
      "Question 8: \n"
     ]
    },
    {
     "name": "stdin",
     "output_type": "stream",
     "text": [
      "Is it an animal found in Oceania? no\n"
     ]
    },
    {
     "name": "stdout",
     "output_type": "stream",
     "text": [
      "Question 9: \n"
     ]
    },
    {
     "name": "stdin",
     "output_type": "stream",
     "text": [
      "Is it an animal found in the Americas? no\n"
     ]
    },
    {
     "name": "stdout",
     "output_type": "stream",
     "text": [
      "Size of dataset:  10\n",
      "Question 10: \n"
     ]
    },
    {
     "name": "stdin",
     "output_type": "stream",
     "text": [
      "Is it an animal with horns antlers or tusks? no\n"
     ]
    },
    {
     "name": "stdout",
     "output_type": "stream",
     "text": [
      "Question 11: \n"
     ]
    },
    {
     "name": "stdin",
     "output_type": "stream",
     "text": [
      "Is it a rodent? no\n"
     ]
    },
    {
     "name": "stdout",
     "output_type": "stream",
     "text": [
      "Size of dataset:  5\n",
      "Question 12: \n"
     ]
    },
    {
     "name": "stdin",
     "output_type": "stream",
     "text": [
      "Is it a cow? no\n"
     ]
    },
    {
     "name": "stdout",
     "output_type": "stream",
     "text": [
      "Question 13: \n"
     ]
    },
    {
     "name": "stdin",
     "output_type": "stream",
     "text": [
      "Is it a donkey? no\n"
     ]
    },
    {
     "name": "stdout",
     "output_type": "stream",
     "text": [
      "Question 14: \n"
     ]
    },
    {
     "name": "stdin",
     "output_type": "stream",
     "text": [
      "Is it a horse? no\n"
     ]
    },
    {
     "name": "stdout",
     "output_type": "stream",
     "text": [
      "Question 15: \n"
     ]
    },
    {
     "name": "stdin",
     "output_type": "stream",
     "text": [
      "Is it a mule? no\n"
     ]
    },
    {
     "name": "stdout",
     "output_type": "stream",
     "text": [
      "Size of dataset:  1\n"
     ]
    }
   ],
   "source": [
    "question_counter = 1\n",
    "filtered_animals = animal_df\n",
    "\n",
    "def loop_questions(column,filtered_animals):\n",
    "    global question_counter\n",
    "    #print(\"Size of dataset: \",len(filtered_animals))\n",
    "    list = filtered_animals[column].sort_values().unique().tolist()\n",
    "\n",
    "    for animal in list:\n",
    "        print(f\"Question {question_counter}: \")\n",
    "        if pd.notna(animal):\n",
    "            a_an = make_an(animal)\n",
    "            response = input(f\"Is it {a_an} {animal}?\")\n",
    "            question_counter+=1\n",
    "            if response == \"no\":\n",
    "                filtered_animals = filtered_animals.loc[filtered_animals[column]!=animal]\n",
    "            if (question_counter<=20) & (column=='species') & (response==\"yes\"):\n",
    "                print(f\"Amazing. So it's a {animal}. I win!\")\n",
    "                return filtered_animals\n",
    "            if (len(filtered_animals[column].unique())==1):\n",
    "                return filtered_animals\n",
    "            if response == \"yes\":\n",
    "                filtered_animals = filtered_animals.loc[filtered_animals[column]==animal]\n",
    "                break\n",
    "            if (question_counter>20):\n",
    "                print(\"That's 20 questions! You win!\")\n",
    "                return filtered_animals\n",
    "            if (len(filtered_animals)==0):\n",
    "                print(\"I'm out of ideas. You win!\")\n",
    "                return filtered_animals\n",
    "        \n",
    "    return filtered_animals\n",
    "\n",
    "columns = ['domesticated','diet','habitat','Kingdom','region','subtype','species']\n",
    "\n",
    "for column in range(len(columns)):\n",
    "    filtered_animals = loop_questions(columns[column],filtered_animals)\n",
    "    print(\"Size of dataset: \",len(filtered_animals))\n",
    "\n",
    "filtered_animals=animal_df"
   ]
  },
  {
   "cell_type": "code",
   "execution_count": null,
   "id": "a4962b2f-dd57-4223-9551-01d1eddf7143",
   "metadata": {},
   "outputs": [],
   "source": []
  }
 ],
 "metadata": {
  "kernelspec": {
   "display_name": "Python 3 (ipykernel)",
   "language": "python",
   "name": "python3"
  },
  "language_info": {
   "codemirror_mode": {
    "name": "ipython",
    "version": 3
   },
   "file_extension": ".py",
   "mimetype": "text/x-python",
   "name": "python",
   "nbconvert_exporter": "python",
   "pygments_lexer": "ipython3",
   "version": "3.9.13"
  }
 },
 "nbformat": 4,
 "nbformat_minor": 5
}
